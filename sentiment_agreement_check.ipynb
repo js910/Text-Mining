{
 "cells": [
  {
   "cell_type": "markdown",
   "id": "aea05ec7",
   "metadata": {},
   "source": [
    "# 대중 리뷰 데이터 감정분석"
   ]
  },
  {
   "cell_type": "code",
   "execution_count": 1,
   "id": "b8ea6aa3",
   "metadata": {},
   "outputs": [],
   "source": [
    "import pandas as pd\n",
    "import numpy as np\n",
    "from nltk.tokenize import word_tokenize\n",
    "from gensim.models import Word2Vec\n",
    "from sklearn.model_selection import train_test_split\n",
    "from sklearn.ensemble import RandomForestClassifier\n",
    "from sklearn.metrics import accuracy_score\n",
    "import nltk"
   ]
  },
  {
   "cell_type": "code",
   "execution_count": 2,
   "id": "68a8d7b4",
   "metadata": {},
   "outputs": [
    {
     "name": "stdout",
     "output_type": "stream",
     "text": [
      "데이터 크기: (50000, 3)\n"
     ]
    },
    {
     "data": {
      "text/html": [
       "<div>\n",
       "<style scoped>\n",
       "    .dataframe tbody tr th:only-of-type {\n",
       "        vertical-align: middle;\n",
       "    }\n",
       "\n",
       "    .dataframe tbody tr th {\n",
       "        vertical-align: top;\n",
       "    }\n",
       "\n",
       "    .dataframe thead th {\n",
       "        text-align: right;\n",
       "    }\n",
       "</style>\n",
       "<table border=\"1\" class=\"dataframe\">\n",
       "  <thead>\n",
       "    <tr style=\"text-align: right;\">\n",
       "      <th></th>\n",
       "      <th>review</th>\n",
       "      <th>sentiment</th>\n",
       "      <th>cleaned_review</th>\n",
       "    </tr>\n",
       "  </thead>\n",
       "  <tbody>\n",
       "    <tr>\n",
       "      <th>0</th>\n",
       "      <td>One of the other reviewers has mentioned that ...</td>\n",
       "      <td>positive</td>\n",
       "      <td>one review mention watch oz episod hook right ...</td>\n",
       "    </tr>\n",
       "    <tr>\n",
       "      <th>1</th>\n",
       "      <td>A wonderful little production. &lt;br /&gt;&lt;br /&gt;The...</td>\n",
       "      <td>positive</td>\n",
       "      <td>wonder littl product film techniqu unassum old...</td>\n",
       "    </tr>\n",
       "    <tr>\n",
       "      <th>2</th>\n",
       "      <td>I thought this was a wonderful way to spend ti...</td>\n",
       "      <td>positive</td>\n",
       "      <td>thought wonder way spend time hot summer weeke...</td>\n",
       "    </tr>\n",
       "    <tr>\n",
       "      <th>3</th>\n",
       "      <td>Basically there's a family where a little boy ...</td>\n",
       "      <td>negative</td>\n",
       "      <td>basic famili littl boy jake think zombi closet...</td>\n",
       "    </tr>\n",
       "    <tr>\n",
       "      <th>4</th>\n",
       "      <td>Petter Mattei's \"Love in the Time of Money\" is...</td>\n",
       "      <td>positive</td>\n",
       "      <td>petter mattei love time money visual stun film...</td>\n",
       "    </tr>\n",
       "  </tbody>\n",
       "</table>\n",
       "</div>"
      ],
      "text/plain": [
       "                                              review sentiment  \\\n",
       "0  One of the other reviewers has mentioned that ...  positive   \n",
       "1  A wonderful little production. <br /><br />The...  positive   \n",
       "2  I thought this was a wonderful way to spend ti...  positive   \n",
       "3  Basically there's a family where a little boy ...  negative   \n",
       "4  Petter Mattei's \"Love in the Time of Money\" is...  positive   \n",
       "\n",
       "                                      cleaned_review  \n",
       "0  one review mention watch oz episod hook right ...  \n",
       "1  wonder littl product film techniqu unassum old...  \n",
       "2  thought wonder way spend time hot summer weeke...  \n",
       "3  basic famili littl boy jake think zombi closet...  \n",
       "4  petter mattei love time money visual stun film...  "
      ]
     },
     "execution_count": 2,
     "metadata": {},
     "output_type": "execute_result"
    }
   ],
   "source": [
    "df = pd.read_csv(\"cleaned_imdb_reviews.csv\")\n",
    "\n",
    "# 데이터 크기 및 미리보기\n",
    "print(\"데이터 크기:\", df.shape)\n",
    "df.head()"
   ]
  },
  {
   "cell_type": "code",
   "execution_count": null,
   "id": "d523ff85",
   "metadata": {},
   "outputs": [
    {
     "name": "stdout",
     "output_type": "stream",
     "text": [
      "\n",
      "라벨 분포:\n",
      "label\n",
      "1    25000\n",
      "0    25000\n",
      "Name: count, dtype: int64\n"
     ]
    }
   ],
   "source": [
    "# 라벨 분포 확인\n",
    "df['label'] = df['sentiment'].map({'positive': 1, 'negative': 0})\n",
    "print(\"\\n라벨 분포:\")\n",
    "print(df['label'].value_counts())"
   ]
  },
  {
   "cell_type": "code",
   "execution_count": null,
   "id": "edaed393",
   "metadata": {},
   "outputs": [],
   "source": [
    "# 특성과 라벨 정의\n",
    "sentences = df['cleaned_review']\n",
    "labels = df['label']\n",
    "\n",
    "# NaN 제거\n",
    "df_clean = df[['cleaned_review', 'label']].dropna(subset=['cleaned_review', 'label']).reset_index(drop=True)\n",
    "sentences = df_clean['cleaned_review'].astype(str).tolist()\n",
    "labels = df_clean['label'].tolist()\n",
    "\n",
    "# 텍스트 토큰화\n",
    "tokenized_sentences = [word_tokenize(sentence.lower()) for sentence in sentences]\n",
    "\n",
    "# Word2Vec 모델 학습\n",
    "model_word2vec = Word2Vec(sentences=tokenized_sentences, vector_size=100, window=5, min_count=1, workers=4)"
   ]
  },
  {
   "cell_type": "code",
   "execution_count": 5,
   "id": "ebceed91",
   "metadata": {},
   "outputs": [
    {
     "name": "stdout",
     "output_type": "stream",
     "text": [
      "Word2Vec 기반 대중리뷰 분류 정확도: 0.8433\n"
     ]
    }
   ],
   "source": [
    "# 문장 임베딩\n",
    "def sentence_embedding(sentence, model):\n",
    "    tokens = word_tokenize(sentence.lower())\n",
    "    embedding = np.zeros(model.vector_size)\n",
    "    valid_tokens = 0\n",
    "    for token in tokens:\n",
    "        if token in model.wv:\n",
    "            embedding += model.wv[token]\n",
    "            valid_tokens += 1\n",
    "    if valid_tokens > 0:\n",
    "        embedding /= valid_tokens\n",
    "    return embedding\n",
    "\n",
    "embedding_word2vec = np.array([sentence_embedding(sentence, model_word2vec) for sentence in sentences])\n",
    "\n",
    "# 훈련 테스트 데이터 분리\n",
    "X_train, X_test, y_train, y_test = train_test_split(embedding_word2vec, labels, test_size=0.2, stratify=labels, random_state=42)\n",
    "\n",
    "# 랜덤 포레스트 분류기 학습 및 평가\n",
    "rf_classifier = RandomForestClassifier(n_estimators=100, random_state=42)\n",
    "rf_classifier.fit(X_train, y_train)\n",
    "\n",
    "y_pred = rf_classifier.predict(X_test)\n",
    "accuracy = accuracy_score(y_test, y_pred)\n",
    "print(\"Word2Vec 기반 대중리뷰 분류 정확도:\", accuracy)"
   ]
  },
  {
   "cell_type": "markdown",
   "id": "55e40476",
   "metadata": {},
   "source": [
    "# 평론가 리뷰 데이터 감정분석"
   ]
  },
  {
   "cell_type": "code",
   "execution_count": 6,
   "id": "d832c116",
   "metadata": {},
   "outputs": [
    {
     "name": "stdout",
     "output_type": "stream",
     "text": [
      "데이터 크기: (1064211, 3)\n"
     ]
    },
    {
     "data": {
      "text/html": [
       "<div>\n",
       "<style scoped>\n",
       "    .dataframe tbody tr th:only-of-type {\n",
       "        vertical-align: middle;\n",
       "    }\n",
       "\n",
       "    .dataframe tbody tr th {\n",
       "        vertical-align: top;\n",
       "    }\n",
       "\n",
       "    .dataframe thead th {\n",
       "        text-align: right;\n",
       "    }\n",
       "</style>\n",
       "<table border=\"1\" class=\"dataframe\">\n",
       "  <thead>\n",
       "    <tr style=\"text-align: right;\">\n",
       "      <th></th>\n",
       "      <th>review_type</th>\n",
       "      <th>review_content</th>\n",
       "      <th>cleaned_review</th>\n",
       "    </tr>\n",
       "  </thead>\n",
       "  <tbody>\n",
       "    <tr>\n",
       "      <th>0</th>\n",
       "      <td>Fresh</td>\n",
       "      <td>A fantasy adventure that fuses Greek mythology...</td>\n",
       "      <td>fantasi adventur fuse greek mytholog contempor...</td>\n",
       "    </tr>\n",
       "    <tr>\n",
       "      <th>1</th>\n",
       "      <td>Fresh</td>\n",
       "      <td>Uma Thurman as Medusa, the gorgon with a coiff...</td>\n",
       "      <td>uma thurman medusa gorgon coiffur writh snake ...</td>\n",
       "    </tr>\n",
       "    <tr>\n",
       "      <th>2</th>\n",
       "      <td>Fresh</td>\n",
       "      <td>With a top-notch cast and dazzling special eff...</td>\n",
       "      <td>top notch cast dazzl special effect tide teen ...</td>\n",
       "    </tr>\n",
       "    <tr>\n",
       "      <th>3</th>\n",
       "      <td>Fresh</td>\n",
       "      <td>Whether audiences will get behind The Lightnin...</td>\n",
       "      <td>whether audienc get behind lightn thief hard p...</td>\n",
       "    </tr>\n",
       "    <tr>\n",
       "      <th>4</th>\n",
       "      <td>Rotten</td>\n",
       "      <td>What's really lacking in The Lightning Thief i...</td>\n",
       "      <td>realli lack lightn thief genuin sens wonder th...</td>\n",
       "    </tr>\n",
       "  </tbody>\n",
       "</table>\n",
       "</div>"
      ],
      "text/plain": [
       "  review_type                                     review_content  \\\n",
       "0       Fresh  A fantasy adventure that fuses Greek mythology...   \n",
       "1       Fresh  Uma Thurman as Medusa, the gorgon with a coiff...   \n",
       "2       Fresh  With a top-notch cast and dazzling special eff...   \n",
       "3       Fresh  Whether audiences will get behind The Lightnin...   \n",
       "4      Rotten  What's really lacking in The Lightning Thief i...   \n",
       "\n",
       "                                      cleaned_review  \n",
       "0  fantasi adventur fuse greek mytholog contempor...  \n",
       "1  uma thurman medusa gorgon coiffur writh snake ...  \n",
       "2  top notch cast dazzl special effect tide teen ...  \n",
       "3  whether audienc get behind lightn thief hard p...  \n",
       "4  realli lack lightn thief genuin sens wonder th...  "
      ]
     },
     "execution_count": 6,
     "metadata": {},
     "output_type": "execute_result"
    }
   ],
   "source": [
    "# 평론가 데이터 불러오기\n",
    "new_df = pd.read_csv(\"cleaned_rotten_tomatoes_critic_reviews.csv\")\n",
    "print(\"데이터 크기:\", new_df.shape)\n",
    "new_df.head()"
   ]
  },
  {
   "cell_type": "code",
   "execution_count": 17,
   "id": "fdf5b152",
   "metadata": {},
   "outputs": [
    {
     "name": "stdout",
     "output_type": "stream",
     "text": [
      "\n",
      "라벨 분포:\n",
      "label\n",
      "1    681035\n",
      "0    383176\n",
      "Name: count, dtype: int64\n"
     ]
    }
   ],
   "source": [
    "# 라벨 분포 확인\n",
    "new_df['label'] = new_df['review_type'].map({'Fresh': 1, 'Rotten': 0})\n",
    "print(\"\\n라벨 분포:\")\n",
    "print(new_df['label'].value_counts())"
   ]
  },
  {
   "cell_type": "code",
   "execution_count": 16,
   "id": "c1b617a3",
   "metadata": {},
   "outputs": [],
   "source": [
    "# NaN 제거\n",
    "new_df_clean = new_df[['label', 'cleaned_review', 'review_content']].dropna(subset=['label', 'cleaned_review', 'review_content']).reset_index(drop=True)\n",
    "\n",
    "# 특성과 라벨 정의\n",
    "new_sentences = new_df_clean['cleaned_review'].astype(str).tolist()\n",
    "new_labels = new_df_clean['label'].tolist()\n",
    "\n",
    "# 텍스트 토큰화\n",
    "new_tokenized_sentences = [word_tokenize(new_sentence.lower()) for new_sentence in new_sentences]\n",
    "\n",
    "# Word2Vec 모델 학습\n",
    "new_model_word2vec = Word2Vec(sentences=new_tokenized_sentences, vector_size=100, window=5, min_count=1, workers=4)"
   ]
  },
  {
   "cell_type": "code",
   "execution_count": 12,
   "id": "f22060b7",
   "metadata": {},
   "outputs": [
    {
     "name": "stdout",
     "output_type": "stream",
     "text": [
      "Word2Vec 기반 평론가리뷰 분류 정확도: 0.741499859035805\n"
     ]
    }
   ],
   "source": [
    "# 문장 임베딩\n",
    "new_embedding_word2vec = np.array([sentence_embedding(new_sentence, new_model_word2vec) for new_sentence in new_sentences])\n",
    "\n",
    "# 훈련 테스트 데이터 분리\n",
    "X_train, X_test, y_train, y_test = train_test_split(new_embedding_word2vec, new_labels, test_size=0.2, stratify=new_labels, random_state=42)\n",
    "\n",
    "# 랜덤 포레스트 분류기 학습 및 평가\n",
    "new_rf_classifier = RandomForestClassifier(n_estimators=50, max_depth=10, random_state=42)\n",
    "new_rf_classifier.fit(X_train, y_train)\n",
    "\n",
    "y_pred = new_rf_classifier.predict(X_test)\n",
    "new_accuracy = accuracy_score(y_test, y_pred)\n",
    "print(\"Word2Vec 기반 평론가리뷰 분류 정확도:\", new_accuracy)"
   ]
  },
  {
   "cell_type": "markdown",
   "id": "fee27484",
   "metadata": {},
   "source": [
    "# 대중리뷰 학습모델을 통한 평론가리뷰 감정분석"
   ]
  },
  {
   "cell_type": "code",
   "execution_count": 18,
   "id": "88d69041",
   "metadata": {},
   "outputs": [
    {
     "name": "stdout",
     "output_type": "stream",
     "text": [
      "    label predicted_sentiment_label  \\\n",
      "0   Fresh                  Positive   \n",
      "1   Fresh                  Positive   \n",
      "2   Fresh                  Positive   \n",
      "3   Fresh                  Positive   \n",
      "4  Rotten                  Positive   \n",
      "\n",
      "                                                                                                                                                                                                          review_content  \n",
      "0                                       A fantasy adventure that fuses Greek mythology to contemporary American places and values. Anyone around 15 (give or take a couple of years) will thrill to the visual spectacle  \n",
      "1                                                              Uma Thurman as Medusa, the gorgon with a coiffure of writhing snakes and stone-inducing hypnotic gaze is one of the highlights of this bewitching fantasy  \n",
      "2                                                                                              With a top-notch cast and dazzling special effects, this will tide the teens over until the next Harry Potter instalment.  \n",
      "3  Whether audiences will get behind The Lightning Thief is hard to predict. Overall, it's an entertaining introduction to a promising new world -- but will the consuming shadow of Potter be too big to break free of?  \n",
      "4                                                                    What's really lacking in The Lightning Thief is a genuine sense of wonder, the same thing that brings viewers back to Hogwarts over and over again.  \n"
     ]
    }
   ],
   "source": [
    "# 문장 임베딩\n",
    "new_embeddings = np.array([sentence_embedding(s, model_word2vec) for s in new_sentences])\n",
    "\n",
    "# 감정 예측 (기존 학습된 rf_classifier 사용)\n",
    "predictions = rf_classifier.predict(new_embeddings)\n",
    "\n",
    "# 결과 저장\n",
    "new_df_clean[\"predicted_sentiment\"] = predictions\n",
    "new_df_clean[\"label\"] = new_df_clean[\"label\"].map({0: \"Rotten\", 1: \"Fresh\"})\n",
    "new_df_clean[\"predicted_sentiment_label\"] = new_df_clean[\"predicted_sentiment\"].map({0: \"Negative\", 1: \"Positive\"})\n",
    "\n",
    "# 결과 보기\n",
    "new_df_clean = new_df_clean[['label', 'predicted_sentiment_label', 'review_content']]\n",
    "print(new_df_clean.head())"
   ]
  },
  {
   "cell_type": "code",
   "execution_count": 21,
   "id": "64fd822a",
   "metadata": {},
   "outputs": [
    {
     "name": "stdout",
     "output_type": "stream",
     "text": [
      "일치 개수: 732336개 (68.82%)\n",
      "불일치 개수: 331762개 (31.18%)\n",
      "\n",
      "    match   label predicted_sentiment_label  \\\n",
      "4   False  Rotten                  Positive   \n",
      "5   False  Rotten                  Positive   \n",
      "12  False  Rotten                  Positive   \n",
      "14  False  Rotten                  Positive   \n",
      "19  False  Rotten                  Positive   \n",
      "\n",
      "                                                                                         review_content  \n",
      "4   What's really lacking in The Lightning Thief is a genuine sense of wonder, the same thing that b...  \n",
      "5              It's more a list of ingredients than a movie-magic potion to enjoy from start to finish.  \n",
      "12  Chris Columbus returns to his comfort zone for this mirthless, episodic fantasy saga based on th...  \n",
      "14                              This cast is simply too generic. None of the young thespians stick out.  \n",
      "19  When the movie slows down to catch its breath, there's very little of the heart and soul -- and ...  \n"
     ]
    }
   ],
   "source": [
    "# 컬럼명 공백 제거\n",
    "new_df_clean.columns = new_df_clean.columns.str.strip()\n",
    "\n",
    "# Fresh-Positive, Rotten-Negative 일치 여부 계산\n",
    "new_df_clean['match'] = (\n",
    "    ((new_df_clean['label'] == 'Fresh') & (new_df_clean['predicted_sentiment_label'] == 'Positive')) |\n",
    "    ((new_df_clean['label'] == 'Rotten') & (new_df_clean['predicted_sentiment_label'] == 'Negative'))\n",
    ")\n",
    "match_count = new_df_clean['match'].sum()\n",
    "mismatch_count = len(new_df_clean) - match_count\n",
    "\n",
    "print(f\"일치 개수: {match_count}개 ({match_count / len(new_df_clean) * 100:.2f}%)\")\n",
    "print(f\"불일치 개수: {mismatch_count}개 ({mismatch_count / len(new_df_clean) * 100:.2f}%)\\n\")\n",
    "\n",
    "# 불일치 목록\n",
    "mismatched_df = new_df_clean[~new_df_clean['match']]\n",
    "mismatched_df = mismatched_df[['match', 'label', 'predicted_sentiment_label', 'review_content']]\n",
    "\n",
    "pd.set_option('display.max_colwidth', 100)\n",
    "print(mismatched_df.head())\n",
    "\n",
    "# CSV로 저장\n",
    "# mismatched_df.to_csv(\"rotten_tomatoes_mismatched_reviews.csv\", index=False)"
   ]
  }
 ],
 "metadata": {
  "kernelspec": {
   "display_name": "Python 3",
   "language": "python",
   "name": "python3"
  },
  "language_info": {
   "codemirror_mode": {
    "name": "ipython",
    "version": 3
   },
   "file_extension": ".py",
   "mimetype": "text/x-python",
   "name": "python",
   "nbconvert_exporter": "python",
   "pygments_lexer": "ipython3",
   "version": "3.12.5"
  }
 },
 "nbformat": 4,
 "nbformat_minor": 5
}
